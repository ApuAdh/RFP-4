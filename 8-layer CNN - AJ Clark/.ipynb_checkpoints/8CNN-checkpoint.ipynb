{
 "cells": [
  {
   "cell_type": "code",
   "execution_count": 7,
   "id": "13b98457",
   "metadata": {},
   "outputs": [],
   "source": [
    "import gymnasium as gym\n",
    "import numpy as np\n",
    "import random\n",
    "import tensorflow as tf\n",
    "from tensorflow.keras import layers, models, optimizers\n",
    "from tqdm import tqdm\n",
    "import os"
   ]
  },
  {
   "cell_type": "code",
   "execution_count": 2,
   "id": "21b70f76",
   "metadata": {},
   "outputs": [],
   "source": [
    "# Hyperparameters\n",
    "learning_rate = 0.00025\n",
    "epsilon = 0.1  # Exploration rate\n",
    "episodes = 100  # Number of training episodes\n",
    "optimizer = optimizers.Adam(learning_rate=learning_rate)\n",
    "loss_function = 'mse'  # Mean Squared Error loss for Q-value difference\n"
   ]
  },
  {
   "cell_type": "code",
   "execution_count": 3,
   "id": "8bd60fbd",
   "metadata": {},
   "outputs": [],
   "source": [
    "def create_cnn(input_shape, num_actions):\n",
    "    model = models.Sequential([\n",
    "        layers.Input(shape=input_shape),\n",
    "        layers.Conv2D(64, (8, 8), strides=(4, 4), activation='relu'),\n",
    "        layers.Conv2D(128, (4, 4), strides=(2, 2), activation='relu'),\n",
    "        layers.Conv2D(256, (3, 3), strides=(2, 2), activation='relu'),  # First 256 layer\n",
    "        layers.Conv2D(256, (3, 3), activation='relu'),  # Second 256 layer\n",
    "        layers.Conv2D(256, (3, 3), activation='relu'),  # Third 256 layer\n",
    "        layers.Conv2D(256, (1, 1), activation='relu'),  # Fourth 256 layer\n",
    "        layers.Conv2D(256, (1, 1), activation='relu'),  # Fourth 256 layer\n",
    "        layers.Conv2D(256, (1, 1), activation='relu'),  # Fourth 256 layer\n",
    "        layers.Flatten(),\n",
    "        layers.Dense(512, activation='relu'),\n",
    "        layers.Dense(5, activation='linear')  # Output layer for Q-values\n",
    "    ])\n",
    "    return model\n"
   ]
  },
  {
   "cell_type": "code",
   "execution_count": 4,
   "id": "94c439a8",
   "metadata": {},
   "outputs": [],
   "source": [
    "env = gym.make('ALE/Frogger-v5', render_mode='rgb_array')\n",
    "#env = gym.make('ALE/Frogger-v5', )\n",
    "input_shape = env.observation_space.shape  # This should match the frame size\n",
    "num_actions = env.action_space.n  # Number of possible actions\n",
    "\n",
    "model = create_cnn(input_shape, num_actions)\n",
    "model.compile(optimizer=optimizers.Adam(learning_rate=0.00025), loss='mse')  # Mean Squared Error loss for Q-value difference\n"
   ]
  },
  {
   "cell_type": "code",
   "execution_count": 8,
   "id": "aa63313b",
   "metadata": {
    "scrolled": true
   },
   "outputs": [
    {
     "name": "stderr",
     "output_type": "stream",
     "text": [
      "Episode: 10, Reward: 6.0:  10%|█████                                             | 10/100 [03:02<26:20, 17.56s/episode]WARNING:absl:You are saving your model as an HDF5 file via `model.save()` or `keras.saving.save_model(model)`. This file format is considered legacy. We recommend using instead the native Keras format, e.g. `model.save('my_model.keras')` or `keras.saving.save_model(model, 'my_model.keras')`. \n"
     ]
    },
    {
     "name": "stdout",
     "output_type": "stream",
     "text": [
      "Saved model at episode 10 to model_weights\\model_episode_10.h5\n"
     ]
    },
    {
     "name": "stderr",
     "output_type": "stream",
     "text": [
      "Episode: 20, Reward: 11.0:  20%|█████████▊                                       | 20/100 [06:08<22:39, 16.99s/episode]WARNING:absl:You are saving your model as an HDF5 file via `model.save()` or `keras.saving.save_model(model)`. This file format is considered legacy. We recommend using instead the native Keras format, e.g. `model.save('my_model.keras')` or `keras.saving.save_model(model, 'my_model.keras')`. \n"
     ]
    },
    {
     "name": "stdout",
     "output_type": "stream",
     "text": [
      "Saved model at episode 20 to model_weights\\model_episode_20.h5\n"
     ]
    },
    {
     "name": "stderr",
     "output_type": "stream",
     "text": [
      "Episode: 30, Reward: 5.0:  30%|███████████████                                   | 30/100 [09:03<22:44, 19.50s/episode]WARNING:absl:You are saving your model as an HDF5 file via `model.save()` or `keras.saving.save_model(model)`. This file format is considered legacy. We recommend using instead the native Keras format, e.g. `model.save('my_model.keras')` or `keras.saving.save_model(model, 'my_model.keras')`. \n"
     ]
    },
    {
     "name": "stdout",
     "output_type": "stream",
     "text": [
      "Saved model at episode 30 to model_weights\\model_episode_30.h5\n"
     ]
    },
    {
     "name": "stderr",
     "output_type": "stream",
     "text": [
      "Episode: 40, Reward: 10.0:  40%|███████████████████▌                             | 40/100 [12:08<22:32, 22.54s/episode]WARNING:absl:You are saving your model as an HDF5 file via `model.save()` or `keras.saving.save_model(model)`. This file format is considered legacy. We recommend using instead the native Keras format, e.g. `model.save('my_model.keras')` or `keras.saving.save_model(model, 'my_model.keras')`. \n"
     ]
    },
    {
     "name": "stdout",
     "output_type": "stream",
     "text": [
      "Saved model at episode 40 to model_weights\\model_episode_40.h5\n"
     ]
    },
    {
     "name": "stderr",
     "output_type": "stream",
     "text": [
      "Episode: 50, Reward: 7.0:  50%|█████████████████████████                         | 50/100 [16:04<20:57, 25.16s/episode]WARNING:absl:You are saving your model as an HDF5 file via `model.save()` or `keras.saving.save_model(model)`. This file format is considered legacy. We recommend using instead the native Keras format, e.g. `model.save('my_model.keras')` or `keras.saving.save_model(model, 'my_model.keras')`. \n"
     ]
    },
    {
     "name": "stdout",
     "output_type": "stream",
     "text": [
      "Saved model at episode 50 to model_weights\\model_episode_50.h5\n"
     ]
    },
    {
     "name": "stderr",
     "output_type": "stream",
     "text": [
      "Episode: 60, Reward: 5.0:  60%|██████████████████████████████                    | 60/100 [21:00<19:14, 28.86s/episode]WARNING:absl:You are saving your model as an HDF5 file via `model.save()` or `keras.saving.save_model(model)`. This file format is considered legacy. We recommend using instead the native Keras format, e.g. `model.save('my_model.keras')` or `keras.saving.save_model(model, 'my_model.keras')`. \n"
     ]
    },
    {
     "name": "stdout",
     "output_type": "stream",
     "text": [
      "Saved model at episode 60 to model_weights\\model_episode_60.h5\n"
     ]
    },
    {
     "name": "stderr",
     "output_type": "stream",
     "text": [
      "Episode: 70, Reward: 8.0:  70%|███████████████████████████████████               | 70/100 [24:15<08:44, 17.48s/episode]WARNING:absl:You are saving your model as an HDF5 file via `model.save()` or `keras.saving.save_model(model)`. This file format is considered legacy. We recommend using instead the native Keras format, e.g. `model.save('my_model.keras')` or `keras.saving.save_model(model, 'my_model.keras')`. \n"
     ]
    },
    {
     "name": "stdout",
     "output_type": "stream",
     "text": [
      "Saved model at episode 70 to model_weights\\model_episode_70.h5\n"
     ]
    },
    {
     "name": "stderr",
     "output_type": "stream",
     "text": [
      "Episode: 80, Reward: 6.0:  80%|████████████████████████████████████████          | 80/100 [27:12<06:19, 18.98s/episode]WARNING:absl:You are saving your model as an HDF5 file via `model.save()` or `keras.saving.save_model(model)`. This file format is considered legacy. We recommend using instead the native Keras format, e.g. `model.save('my_model.keras')` or `keras.saving.save_model(model, 'my_model.keras')`. \n"
     ]
    },
    {
     "name": "stdout",
     "output_type": "stream",
     "text": [
      "Saved model at episode 80 to model_weights\\model_episode_80.h5\n"
     ]
    },
    {
     "name": "stderr",
     "output_type": "stream",
     "text": [
      "Episode: 90, Reward: 6.0:  90%|█████████████████████████████████████████████     | 90/100 [30:26<02:58, 17.87s/episode]WARNING:absl:You are saving your model as an HDF5 file via `model.save()` or `keras.saving.save_model(model)`. This file format is considered legacy. We recommend using instead the native Keras format, e.g. `model.save('my_model.keras')` or `keras.saving.save_model(model, 'my_model.keras')`. \n"
     ]
    },
    {
     "name": "stdout",
     "output_type": "stream",
     "text": [
      "Saved model at episode 90 to model_weights\\model_episode_90.h5\n"
     ]
    },
    {
     "name": "stderr",
     "output_type": "stream",
     "text": [
      "Episode: 100, Reward: 5.0: 100%|████████████████████████████████████████████████| 100/100 [33:28<00:00, 18.55s/episode]WARNING:absl:You are saving your model as an HDF5 file via `model.save()` or `keras.saving.save_model(model)`. This file format is considered legacy. We recommend using instead the native Keras format, e.g. `model.save('my_model.keras')` or `keras.saving.save_model(model, 'my_model.keras')`. \n",
      "Episode: 100, Reward: 5.0: 100%|████████████████████████████████████████████████| 100/100 [33:28<00:00, 20.08s/episode]"
     ]
    },
    {
     "name": "stdout",
     "output_type": "stream",
     "text": [
      "Saved model at episode 100 to model_weights\\model_episode_100.h5\n",
      "Average Reward: 6.7\n",
      "Best Reward: 13.0\n"
     ]
    },
    {
     "name": "stderr",
     "output_type": "stream",
     "text": [
      "\n"
     ]
    }
   ],
   "source": [
    "def train_model(model, episodes, save_interval=10, i):\n",
    "    # Initialize list to keep track of total rewards for each episode\n",
    "    episode_rewards = []\n",
    "\n",
    "    # Create a directory to save model weights\n",
    "    save_dir = \"model_weights\"\n",
    "    if not os.path.exists(save_dir):\n",
    "        os.makedirs(save_dir)\n",
    "\n",
    "    # Set up tqdm progress bar\n",
    "    with tqdm(total=episodes, desc=\"Episode\", unit='episode') as pbar:\n",
    "        for e in range(episodes):\n",
    "            state = env.reset()[0]\n",
    "            state = np.array(state)\n",
    "            done = False\n",
    "            total_reward = 0\n",
    "\n",
    "            while not done:\n",
    "                # Randomly choose an action or the best predicted action\n",
    "                if np.random.rand() <= epsilon:  # Use the global epsilon value\n",
    "                    action = env.action_space.sample()\n",
    "                else:\n",
    "                    q_values = model.predict(np.expand_dims(state, axis=0), verbose=0)\n",
    "                    action = np.argmax(q_values[0])\n",
    "\n",
    "                next_state, reward, terminated, truncated, info = env.step(action)\n",
    "                next_state = np.array(next_state)\n",
    "                total_reward += reward\n",
    "                \n",
    "                if terminated or truncated:\n",
    "                    done = True\n",
    "\n",
    "            # Update progress bar\n",
    "            pbar.update(1)\n",
    "            pbar.set_description(f\"Episode: {e+1}, Reward: {total_reward}\")\n",
    "\n",
    "            # Append the total reward to the rewards list\n",
    "            episode_rewards.append(total_reward)\n",
    "\n",
    "            # Save the model every 'save_interval' episodes\n",
    "            if (e + 1) % save_interval == 0:\n",
    "                model_path = os.path.join(save_dir, f'model_episode_{i}{e + 1}.h5')\n",
    "                model.save(model_path)\n",
    "                print(f\"Saved model at episode {e + 1} to {model_path}\")\n",
    "\n",
    "    # Print overall training results\n",
    "    print(f\"Average Reward: {np.mean(episode_rewards)}\")\n",
    "    print(f\"Best Reward: {max(episode_rewards)}\")\n",
    "\n",
    "# Example usage\n",
    "train_model(model, 100)  # Adjust as needed for your setup\n",
    "env.close()"
   ]
  },
  {
   "cell_type": "code",
   "execution_count": null,
   "id": "f6112c79",
   "metadata": {},
   "outputs": [
    {
     "name": "stderr",
     "output_type": "stream",
     "text": [
      "\r",
      "Episode:   0%|                                                                            | 0/100 [00:00<?, ?episode/s]"
     ]
    }
   ],
   "source": [
    "env = gym.make('ALE/Frogger-v5', render_mode='rgb_array')\n",
    "input_shape = env.observation_space.shape  # This should match the frame size\n",
    "num_actions = env.action_space.n  # Number of possible actions\n",
    "\n",
    "model2 = create_cnn(input_shape, num_actions)\n",
    "model2.load_weights('model_weights/model_episode_100.h5')\n",
    "env.reset()\n",
    "game_over = False\n",
    "train_model(model2, 100, 3)"
   ]
  },
  {
   "cell_type": "code",
   "execution_count": null,
   "id": "2bec3123",
   "metadata": {},
   "outputs": [],
   "source": []
  },
  {
   "cell_type": "code",
   "execution_count": null,
   "id": "ba233e40",
   "metadata": {},
   "outputs": [],
   "source": []
  }
 ],
 "metadata": {
  "kernelspec": {
   "display_name": "Python 3 (ipykernel)",
   "language": "python",
   "name": "python3"
  },
  "language_info": {
   "codemirror_mode": {
    "name": "ipython",
    "version": 3
   },
   "file_extension": ".py",
   "mimetype": "text/x-python",
   "name": "python",
   "nbconvert_exporter": "python",
   "pygments_lexer": "ipython3",
   "version": "3.9.13"
  }
 },
 "nbformat": 4,
 "nbformat_minor": 5
}
