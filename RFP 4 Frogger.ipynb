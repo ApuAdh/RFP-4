{
 "cells": [
  {
   "cell_type": "code",
   "execution_count": null,
   "id": "115f7114",
   "metadata": {
    "scrolled": true
   },
   "outputs": [],
   "source": [
    "import gymnasium as gym\n",
    "import numpy as np\n",
    "import tensorflow as tf\n",
    "from tensorflow.keras.models import Sequential\n",
    "from tensorflow.keras.layers import Conv2D, Flatten, Dense\n",
    "import time\n",
    "\n",
    "# Function to create the CNN model for action decision based on \"Evan\" architecture\n",
    "def create_evan_model(input_shape, action_space):\n",
    "    model = Sequential([\n",
    "        Conv2D(64, (8, 8), strides=(4, 4), activation='relu', input_shape=input_shape),\n",
    "        Conv2D(128, (5, 5), strides=(2, 2), activation='relu'),\n",
    "        Conv2D(256, (3, 3), strides=(2, 2), activation='relu'),\n",
    "        Conv2D(256, (3, 3), strides=(1, 1), activation='relu'),\n",
    "        Flatten(),\n",
    "        Dense(512, activation='relu'),\n",
    "        Dense(action_space, activation='linear')\n",
    "    ])\n",
    "    model.compile(optimizer='adam', loss='mse')\n",
    "    return model\n",
    "\n",
    "# Function to preprocess the game state (image)\n",
    "def preprocess_state(state):\n",
    "    if isinstance(state, tuple) or isinstance(state, list):\n",
    "        state = state[0]\n",
    "    return np.array(state, dtype=np.float32) / 255.0\n",
    "\n",
    "# Function to choose an action based on the model's prediction\n",
    "def choose_action(state, model):\n",
    "    processed_state = preprocess_state(state)\n",
    "    q_values = model.predict(np.array([processed_state]))\n",
    "    return np.argmax(q_values[0])\n",
    "\n",
    "# Initialize the game environment with 'human' render mode for visual output\n",
    "env = gym.make('ALE/Frogger-v5', render_mode='human')\n",
    "print(\"Action space:\", env.action_space)\n",
    "\n",
    "# Setup the neural network model with the \"Evan\" architecture\n",
    "model = create_evan_model((210, 160, 3), env.action_space.n)\n",
    "\n",
    "# Main game loop with 'human' render mode for visual output\n",
    "\n",
    "while True:  # Infinite loop to keep playing new games\n",
    "    state = env.reset()  # Start a new game\n",
    "    done = False\n",
    "    while not done:\n",
    "        action = choose_action(state, model)  # Determine action based on the current policy\n",
    "        outputs = env.step(action)\n",
    "        next_state = outputs[0]\n",
    "        reward = outputs[1]\n",
    "        done = outputs[2]\n",
    "        info = outputs[3] if len(outputs) > 3 else {}\n",
    "\n",
    "        # env.render() is not necessary with 'human' mode as it renders automatically\n",
    "        \n",
    "        state = next_state  # Update state for the next step\n",
    "        time.sleep(0.1)  # Delay to see the changes visually\n",
    "    \n",
    "    # Here you could add logic to track game stats, like the number of games played, etc.\n",
    "    print(\"Game over. Starting a new game.\")\n",
    "\n",
    "# Clean up and close the environment\n",
    "env.close()"
   ]
  },
  {
   "cell_type": "code",
   "execution_count": null,
   "id": "fe5a6514",
   "metadata": {},
   "outputs": [],
   "source": []
  },
  {
   "cell_type": "code",
   "execution_count": null,
   "id": "f0122a35",
   "metadata": {},
   "outputs": [],
   "source": []
  }
 ],
 "metadata": {
  "kernelspec": {
   "display_name": "Python 3 (ipykernel)",
   "language": "python",
   "name": "python3"
  },
  "language_info": {
   "codemirror_mode": {
    "name": "ipython",
    "version": 3
   },
   "file_extension": ".py",
   "mimetype": "text/x-python",
   "name": "python",
   "nbconvert_exporter": "python",
   "pygments_lexer": "ipython3",
   "version": "3.9.13"
  }
 },
 "nbformat": 4,
 "nbformat_minor": 5
}
