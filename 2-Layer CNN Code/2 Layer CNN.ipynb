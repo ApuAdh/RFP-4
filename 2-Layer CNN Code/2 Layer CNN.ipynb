{
 "cells": [
  {
   "cell_type": "code",
   "execution_count": 23,
   "metadata": {},
   "outputs": [],
   "source": [
    "import gym\n",
    "import numpy as np\n",
    "import random\n",
    "import tensorflow as tf\n",
    "from tensorflow.keras import layers, models, optimizers\n",
    "from tqdm import tqdm\n",
    "import os"
   ]
  },
  {
   "cell_type": "code",
   "execution_count": 18,
   "metadata": {},
   "outputs": [],
   "source": [
    "# Hyperparameters\n",
    "learning_rate = 0.00025\n",
    "epsilon = 0.1  # Exploration rate\n",
    "episodes = 1  # Number of training episodes\n",
    "optimizer = optimizers.Adam(learning_rate=learning_rate)\n",
    "loss_function = 'mse'  # Mean Squared Error loss for Q-value difference"
   ]
  },
  {
   "cell_type": "code",
   "execution_count": 19,
   "metadata": {},
   "outputs": [],
   "source": [
    "def create_cnn(input_shape, num_actions):\n",
    "    model = models.Sequential([\n",
    "        layers.Input(shape=input_shape),\n",
    "        layers.Conv2D(64, (8, 8), strides=(4, 4), activation='relu'),\n",
    "        layers.Conv2D(128, (5, 5), strides=(2, 2), activation='relu'),\n",
    "        layers.Flatten(),\n",
    "        layers.Dense(512, activation='relu'),\n",
    "        layers.Dense(num_actions, activation='linear')\n",
    "    ])\n",
    "    return model"
   ]
  },
  {
   "cell_type": "code",
   "execution_count": 20,
   "metadata": {},
   "outputs": [],
   "source": [
    "env = gym.make('ALE/Frogger-v5', render_mode='rgb_array')\n",
    "#env = gym.make('ALE/Frogger-v5', )\n",
    "input_shape = env.observation_space.shape  # This should match the frame size\n",
    "num_actions = env.action_space.n  # Number of possible actions\n",
    "\n",
    "model = create_cnn(input_shape, num_actions)\n",
    "model.compile(optimizer=optimizers.Adam(learning_rate=0.00025), loss='mse')  # Mean Squared Error loss for Q-value difference"
   ]
  },
  {
   "cell_type": "code",
   "execution_count": 25,
   "metadata": {},
   "outputs": [
    {
     "name": "stderr",
     "output_type": "stream",
     "text": [
      "Episode: 10, Reward: 6.0:  10%|█         | 10/100 [03:47<32:54, 21.94s/episode]WARNING:absl:You are saving your model as an HDF5 file via `model.save()` or `keras.saving.save_model(model)`. This file format is considered legacy. We recommend using instead the native Keras format, e.g. `model.save('my_model.keras')` or `keras.saving.save_model(model, 'my_model.keras')`. \n"
     ]
    },
    {
     "name": "stdout",
     "output_type": "stream",
     "text": [
      "Saved model at episode 10 to model_weights\\model_episode_10.h5\n"
     ]
    },
    {
     "name": "stderr",
     "output_type": "stream",
     "text": [
      "Episode: 20, Reward: 5.0:  20%|██        | 20/100 [08:05<32:56, 24.70s/episode] WARNING:absl:You are saving your model as an HDF5 file via `model.save()` or `keras.saving.save_model(model)`. This file format is considered legacy. We recommend using instead the native Keras format, e.g. `model.save('my_model.keras')` or `keras.saving.save_model(model, 'my_model.keras')`. \n"
     ]
    },
    {
     "name": "stdout",
     "output_type": "stream",
     "text": [
      "Saved model at episode 20 to model_weights\\model_episode_20.h5\n"
     ]
    },
    {
     "name": "stderr",
     "output_type": "stream",
     "text": [
      "Episode: 30, Reward: 6.0:  30%|███       | 30/100 [11:59<24:21, 20.89s/episode]WARNING:absl:You are saving your model as an HDF5 file via `model.save()` or `keras.saving.save_model(model)`. This file format is considered legacy. We recommend using instead the native Keras format, e.g. `model.save('my_model.keras')` or `keras.saving.save_model(model, 'my_model.keras')`. \n"
     ]
    },
    {
     "name": "stdout",
     "output_type": "stream",
     "text": [
      "Saved model at episode 30 to model_weights\\model_episode_30.h5\n"
     ]
    },
    {
     "name": "stderr",
     "output_type": "stream",
     "text": [
      "Episode: 40, Reward: 6.0:  40%|████      | 40/100 [15:25<19:58, 19.98s/episode] WARNING:absl:You are saving your model as an HDF5 file via `model.save()` or `keras.saving.save_model(model)`. This file format is considered legacy. We recommend using instead the native Keras format, e.g. `model.save('my_model.keras')` or `keras.saving.save_model(model, 'my_model.keras')`. \n"
     ]
    },
    {
     "name": "stdout",
     "output_type": "stream",
     "text": [
      "Saved model at episode 40 to model_weights\\model_episode_40.h5\n"
     ]
    },
    {
     "name": "stderr",
     "output_type": "stream",
     "text": [
      "Episode: 50, Reward: 7.0:  50%|█████     | 50/100 [19:10<18:49, 22.58s/episode] WARNING:absl:You are saving your model as an HDF5 file via `model.save()` or `keras.saving.save_model(model)`. This file format is considered legacy. We recommend using instead the native Keras format, e.g. `model.save('my_model.keras')` or `keras.saving.save_model(model, 'my_model.keras')`. \n"
     ]
    },
    {
     "name": "stdout",
     "output_type": "stream",
     "text": [
      "Saved model at episode 50 to model_weights\\model_episode_50.h5\n"
     ]
    },
    {
     "name": "stderr",
     "output_type": "stream",
     "text": [
      "Episode: 60, Reward: 5.0:  60%|██████    | 60/100 [22:32<12:08, 18.21s/episode]WARNING:absl:You are saving your model as an HDF5 file via `model.save()` or `keras.saving.save_model(model)`. This file format is considered legacy. We recommend using instead the native Keras format, e.g. `model.save('my_model.keras')` or `keras.saving.save_model(model, 'my_model.keras')`. \n"
     ]
    },
    {
     "name": "stdout",
     "output_type": "stream",
     "text": [
      "Saved model at episode 60 to model_weights\\model_episode_60.h5\n"
     ]
    },
    {
     "name": "stderr",
     "output_type": "stream",
     "text": [
      "Episode: 70, Reward: 11.0:  70%|███████   | 70/100 [26:04<12:06, 24.22s/episode]WARNING:absl:You are saving your model as an HDF5 file via `model.save()` or `keras.saving.save_model(model)`. This file format is considered legacy. We recommend using instead the native Keras format, e.g. `model.save('my_model.keras')` or `keras.saving.save_model(model, 'my_model.keras')`. \n"
     ]
    },
    {
     "name": "stdout",
     "output_type": "stream",
     "text": [
      "Saved model at episode 70 to model_weights\\model_episode_70.h5\n"
     ]
    },
    {
     "name": "stderr",
     "output_type": "stream",
     "text": [
      "Episode: 80, Reward: 8.0:  80%|████████  | 80/100 [29:53<08:25, 25.28s/episode] WARNING:absl:You are saving your model as an HDF5 file via `model.save()` or `keras.saving.save_model(model)`. This file format is considered legacy. We recommend using instead the native Keras format, e.g. `model.save('my_model.keras')` or `keras.saving.save_model(model, 'my_model.keras')`. \n"
     ]
    },
    {
     "name": "stdout",
     "output_type": "stream",
     "text": [
      "Saved model at episode 80 to model_weights\\model_episode_80.h5\n"
     ]
    },
    {
     "name": "stderr",
     "output_type": "stream",
     "text": [
      "Episode: 90, Reward: 7.0:  90%|█████████ | 90/100 [33:17<03:32, 21.21s/episode]WARNING:absl:You are saving your model as an HDF5 file via `model.save()` or `keras.saving.save_model(model)`. This file format is considered legacy. We recommend using instead the native Keras format, e.g. `model.save('my_model.keras')` or `keras.saving.save_model(model, 'my_model.keras')`. \n"
     ]
    },
    {
     "name": "stdout",
     "output_type": "stream",
     "text": [
      "Saved model at episode 90 to model_weights\\model_episode_90.h5\n"
     ]
    },
    {
     "name": "stderr",
     "output_type": "stream",
     "text": [
      "Episode: 100, Reward: 7.0: 100%|██████████| 100/100 [37:09<00:00, 20.21s/episode]WARNING:absl:You are saving your model as an HDF5 file via `model.save()` or `keras.saving.save_model(model)`. This file format is considered legacy. We recommend using instead the native Keras format, e.g. `model.save('my_model.keras')` or `keras.saving.save_model(model, 'my_model.keras')`. \n",
      "Episode: 100, Reward: 7.0: 100%|██████████| 100/100 [37:09<00:00, 22.30s/episode]"
     ]
    },
    {
     "name": "stdout",
     "output_type": "stream",
     "text": [
      "Saved model at episode 100 to model_weights\\model_episode_100.h5\n",
      "Average Reward: 6.67\n",
      "Best Reward: 11.0\n"
     ]
    },
    {
     "name": "stderr",
     "output_type": "stream",
     "text": [
      "\n"
     ]
    }
   ],
   "source": [
    "def train_model(model, episodes, save_interval=10):\n",
    "    # Initialize list to keep track of total rewards for each episode\n",
    "    episode_rewards = []\n",
    "\n",
    "    # Create a directory to save model weights\n",
    "    save_dir = \"model_weights\"\n",
    "    if not os.path.exists(save_dir):\n",
    "        os.makedirs(save_dir)\n",
    "\n",
    "    # Set up tqdm progress bar\n",
    "    with tqdm(total=episodes, desc=\"Episode\", unit='episode') as pbar:\n",
    "        for e in range(episodes):\n",
    "            state = env.reset()[0]\n",
    "            state = np.array(state)\n",
    "            done = False\n",
    "            total_reward = 0\n",
    "\n",
    "            while not done:\n",
    "                # Randomly choose an action or the best predicted action\n",
    "                if np.random.rand() <= epsilon:  # Use the global epsilon value\n",
    "                    action = env.action_space.sample()\n",
    "                else:\n",
    "                    q_values = model.predict(np.expand_dims(state, axis=0), verbose=0)\n",
    "                    action = np.argmax(q_values[0])\n",
    "\n",
    "                next_state, reward, terminated, truncated, info = env.step(action)\n",
    "                next_state = np.array(next_state)\n",
    "                total_reward += reward\n",
    "                \n",
    "                if terminated or truncated:\n",
    "                    done = True\n",
    "\n",
    "            # Update progress bar\n",
    "            pbar.update(1)\n",
    "            pbar.set_description(f\"Episode: {e+1}, Reward: {total_reward}\")\n",
    "\n",
    "            # Append the total reward to the rewards list\n",
    "            episode_rewards.append(total_reward)\n",
    "\n",
    "            # Save the model every 'save_interval' episodes\n",
    "            if (e + 1) % save_interval == 0:\n",
    "                model_path = os.path.join(save_dir, f'model_episode_{e + 1}.h5')\n",
    "                model.save(model_path)\n",
    "                print(f\"Saved model at episode {e + 1} to {model_path}\")\n",
    "\n",
    "    # Print overall training results\n",
    "    print(f\"Average Reward: {np.mean(episode_rewards)}\")\n",
    "    print(f\"Best Reward: {max(episode_rewards)}\")\n",
    "\n",
    "# Example usage\n",
    "train_model(model, 100)  # Adjust as needed for your setup\n",
    "env.close()"
   ]
  }
 ],
 "metadata": {
  "kernelspec": {
   "display_name": "base",
   "language": "python",
   "name": "python3"
  },
  "language_info": {
   "codemirror_mode": {
    "name": "ipython",
    "version": 3
   },
   "file_extension": ".py",
   "mimetype": "text/x-python",
   "name": "python",
   "nbconvert_exporter": "python",
   "pygments_lexer": "ipython3",
   "version": "3.9.13"
  }
 },
 "nbformat": 4,
 "nbformat_minor": 2
}
